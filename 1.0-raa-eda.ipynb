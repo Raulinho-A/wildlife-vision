{
 "cells": [
  {
   "cell_type": "code",
   "execution_count": null,
   "id": "0",
   "metadata": {},
   "outputs": [],
   "source": [
    "%load_ext autoreload\n",
    "%autoreload 2"
   ]
  },
  {
   "cell_type": "code",
   "execution_count": null,
   "id": "1",
   "metadata": {},
   "outputs": [],
   "source": [
    "import json\n",
    "import os\n",
    "import pandas as pd"
   ]
  },
  {
   "cell_type": "code",
   "execution_count": null,
   "id": "2",
   "metadata": {},
   "outputs": [],
   "source": [
    "with open('train_annotations.json', 'r') as f:\n",
    "    data = json.load(f)"
   ]
  },
  {
   "cell_type": "code",
   "execution_count": null,
   "id": "3",
   "metadata": {},
   "outputs": [],
   "source": [
    "print(data.keys())"
   ]
  },
  {
   "cell_type": "code",
   "execution_count": null,
   "id": "4",
   "metadata": {},
   "outputs": [],
   "source": [
    "images_df = pd.DataFrame(data['images'])\n",
    "categories_df = pd.DataFrame(data['categories'])\n",
    "annotations_df = pd.DataFrame(data['annotations'])"
   ]
  },
  {
   "cell_type": "code",
   "execution_count": null,
   "id": "5",
   "metadata": {},
   "outputs": [],
   "source": [
    "images_df.head()"
   ]
  },
  {
   "cell_type": "code",
   "execution_count": null,
   "id": "6",
   "metadata": {},
   "outputs": [],
   "source": [
    "categories_df"
   ]
  },
  {
   "cell_type": "code",
   "execution_count": null,
   "id": "7",
   "metadata": {},
   "outputs": [],
   "source": [
    "annotations_df"
   ]
  },
  {
   "cell_type": "code",
   "execution_count": null,
   "id": "8",
   "metadata": {},
   "outputs": [],
   "source": [
    "merged_df = annotations_df.merge(images_df, left_on='image_id', right_on='id', suffixes=('_ann', '_img'))\n",
    "merged_df.head()"
   ]
  },
  {
   "cell_type": "code",
   "execution_count": null,
   "id": "9",
   "metadata": {},
   "outputs": [],
   "source": [
    "merged_df = merged_df.merge(categories_df, left_on='category_id', right_on='id', suffixes=('', '_cat'))\n",
    "merged_df.head()"
   ]
  },
  {
   "cell_type": "code",
   "execution_count": null,
   "id": "10",
   "metadata": {},
   "outputs": [],
   "source": [
    "import matplotlib.pyplot as plt\n",
    "from PIL import Image, ImageDraw"
   ]
  },
  {
   "cell_type": "code",
   "execution_count": null,
   "id": "11",
   "metadata": {},
   "outputs": [],
   "source": [
    "IMAGES_FOLDER = 'eccv_18_all_images_sm'"
   ]
  },
  {
   "cell_type": "code",
   "execution_count": null,
   "id": "12",
   "metadata": {},
   "outputs": [],
   "source": [
    "sample = merged_df.iloc[10]\n",
    "image_path = os.path.join(IMAGES_FOLDER, sample['file_name'])\n",
    "\n",
    "img = Image.open(image_path)\n",
    "draw = ImageDraw.Draw(img)"
   ]
  },
  {
   "cell_type": "code",
   "execution_count": null,
   "id": "13",
   "metadata": {},
   "outputs": [],
   "source": [
    "original_width = sample['width']\n",
    "original_height = sample['height']\n",
    "\n",
    "scale_x = img.width / original_width\n",
    "scale_y = img.height / original_height\n",
    "\n",
    "bbox = sample['bbox']\n",
    "x0, y0, width, height = map(float, bbox)\n",
    "x1, y1 = x0 + width, y0 + height\n",
    "\n",
    "x0_scaled = x0 * scale_x\n",
    "y0_scaled = y0 * scale_y\n",
    "x1_scaled = x1 * scale_x\n",
    "y1_scaled = y1 * scale_y\n",
    "\n",
    "draw.rectangle([x0_scaled, y0_scaled, x1_scaled, y1_scaled], outline='red', width=3)\n",
    "\n",
    "plt.figure(figsize=(10, 8))\n",
    "plt.imshow(img)\n",
    "plt.title(f\"Category: {sample['name']}\")\n",
    "plt.axis('off')\n",
    "plt.show()"
   ]
  },
  {
   "cell_type": "code",
   "execution_count": null,
   "id": "14",
   "metadata": {},
   "outputs": [],
   "source": [
    "import numpy as np"
   ]
  },
  {
   "cell_type": "code",
   "execution_count": null,
   "id": "15",
   "metadata": {},
   "outputs": [],
   "source": [
    "def rescale_bounding_boxes(df, target_width, target_height, bbox_column='bbox',\n",
    "                           width_column='width', height_column='height',\n",
    "                           output_column='bbox_scaled'):\n",
    "    \"\"\"\n",
    "    Reescala bounding boxes a nuevas dimensiones objetivo.\n",
    "    \n",
    "    Parameters:\n",
    "    - df: pandas.DataFrame con columnas bbox, width, height.\n",
    "    - target_width: nuevo ancho de la imagen.\n",
    "    - target_height: nuevo alto de la imagen.\n",
    "    - bbox_column: nombre de la columna que contiene los bboxes originales.\n",
    "    - width_column: nombre de la columna que contiene el ancho original.\n",
    "    - height_column: nombre de la columna que contiene el alto original.\n",
    "    - output_column: nombre de la columna de salida que guardará las cajas reescaladas.\n",
    "    \n",
    "    Returns:\n",
    "    - DataFrame con columna adicional de bboxes reescalados.\n",
    "    \"\"\"\n",
    "    original_width = df[width_column].iloc[0]\n",
    "    original_height = df[height_column].iloc[0]\n",
    "    scale_x = target_width / original_width\n",
    "    scale_y = target_height / original_height\n",
    "    \n",
    "    def scale_bbox(bbox):\n",
    "        if bbox is None or isinstance(bbox, float) and np.isnan(bbox):\n",
    "            return None \n",
    "        if not isinstance(bbox, (list, tuple)) or len(bbox) != 4:\n",
    "            return None \n",
    "        x0, y0, width, height = map(float, bbox)\n",
    "        x1, y1 = x0 + width, y0 + height\n",
    "        x0_scaled = x0 * scale_x\n",
    "        y0_scaled = y0 * scale_y\n",
    "        width_scaled = (x1 - x0) * scale_x\n",
    "        height_scaled = (y1 - y0) * scale_y\n",
    "        return [x0_scaled, y0_scaled, width_scaled, height_scaled]\n",
    "\n",
    "    df[output_column] = df[bbox_column].apply(scale_bbox)\n",
    "    return df"
   ]
  },
  {
   "cell_type": "code",
   "execution_count": null,
   "id": "16",
   "metadata": {},
   "outputs": [],
   "source": [
    "rescaled_df = rescale_bounding_boxes(merged_df, target_width=1024, target_height=747)\n",
    "print(rescaled_df[['file_name', 'bbox_scaled']].head())"
   ]
  },
  {
   "cell_type": "code",
   "execution_count": null,
   "id": "17",
   "metadata": {},
   "outputs": [],
   "source": [
    "def show_random_image_with_bbox(df, images_folder, bbox_column='bbox_scaled', \n",
    "                                file_column='file_name', label_column='name'):\n",
    "    \"\"\"\n",
    "    Muestra aleatoriamente una imagen del dataframe con su bbox dibujado.\n",
    "    \n",
    "    Parameters:\n",
    "    - df: pandas.DataFrame que debe tener bbox escalados.\n",
    "    - images_folder: ruta a la carpeta donde están las imágenes.\n",
    "    - bbox_column: columna donde está el bbox escalado.\n",
    "    - file_column: columna con el nombre del archivo de imagen.\n",
    "    - label_column: columna con la etiqueta/clase.\n",
    "    \"\"\"\n",
    "    valid_df = df[df[bbox_column].notnull()]\n",
    "\n",
    "    sample = valid_df.sample(1).iloc[0]\n",
    "    image_path = os.path.join(images_folder, sample[file_column])\n",
    "\n",
    "    img = Image.open(image_path)\n",
    "    draw = ImageDraw.Draw(img)\n",
    "\n",
    "    x0, y0, width, height = map(float, sample[bbox_column])\n",
    "    x1, y1 = x0 + width, y0 + height\n",
    "\n",
    "    draw.rectangle([x0, y0, x1, y1], outline='red', width=3)\n",
    "\n",
    "    plt.figure(figsize=(8, 6))\n",
    "    plt.imshow(img)\n",
    "    plt.title(f\"Category: {sample[label_column]}\")\n",
    "    plt.axis('off')\n",
    "    plt.show()"
   ]
  },
  {
   "cell_type": "code",
   "execution_count": null,
   "id": "18",
   "metadata": {},
   "outputs": [],
   "source": [
    "show_random_image_with_bbox(rescaled_df, images_folder=IMAGES_FOLDER)"
   ]
  },
  {
   "cell_type": "code",
   "execution_count": null,
   "id": "19",
   "metadata": {},
   "outputs": [],
   "source": [
    "rescaled_df[rescaled_df['bbox_scaled'].notnull()]['file_name'].nunique()"
   ]
  },
  {
   "cell_type": "code",
   "execution_count": null,
   "id": "20",
   "metadata": {},
   "outputs": [],
   "source": [
    "bbox_counts = rescaled_df[rescaled_df['bbox_scaled'].notnull()].groupby('file_name').size()\n",
    "bbox_counts.shape"
   ]
  },
  {
   "cell_type": "code",
   "execution_count": null,
   "id": "21",
   "metadata": {},
   "outputs": [],
   "source": [
    "multi_bbox_images = bbox_counts[bbox_counts > 1]\n",
    "num_multi_bbox_images = len(multi_bbox_images)\n",
    "\n",
    "print(f\"Número de imágenes con más de un bbox: {num_multi_bbox_images}\")"
   ]
  },
  {
   "cell_type": "code",
   "execution_count": null,
   "id": "22",
   "metadata": {},
   "outputs": [],
   "source": [
    "multi_bbox_images.head()"
   ]
  },
  {
   "cell_type": "code",
   "execution_count": null,
   "id": "23",
   "metadata": {},
   "outputs": [],
   "source": [
    "import random"
   ]
  },
  {
   "cell_type": "code",
   "execution_count": null,
   "id": "24",
   "metadata": {},
   "outputs": [],
   "source": [
    "def show_image_with_multi_bbox(df, images_folder, file_name_column='file_name',\n",
    "                               bbox_column='bbox_scaled', label_column='name', file_name=None):\n",
    "    \"\"\"\n",
    "    Muestra una imagen (aleatoria si no se especifica) con todos sus bboxes dibujados.\n",
    "    \n",
    "    Parameters:\n",
    "    - df: pandas.DataFrame con bboxes escalados.\n",
    "    - images_folder: ruta a la carpeta de imágenes.\n",
    "    - file_name_column: columna con el nombre del archivo.\n",
    "    - bbox_column: columna con las cajas escaladas.\n",
    "    - label_column: columna con las etiquetas.\n",
    "    - file_name: (opcional) nombre de archivo específico. Si None, selecciona aleatorio.\n",
    "    \"\"\"\n",
    "    valid_df = df[df[bbox_column].notnull()]\n",
    "    \n",
    "    if file_name is None:\n",
    "        multi_bbox_files = valid_df.groupby(file_name_column).size()\n",
    "        multi_bbox_files = multi_bbox_files[multi_bbox_files > 1].index\n",
    "        if len(multi_bbox_files) == 0:\n",
    "            print(\"No hay imágenes con múltiples bboxes.\")\n",
    "            return\n",
    "        file_name = random.choice(multi_bbox_files)\n",
    "    \n",
    "    image_df = valid_df[valid_df[file_name_column] == file_name]\n",
    "    \n",
    "    if image_df.empty:\n",
    "        print(f\"No se encontraron bboxes para la imagen {file_name}\")\n",
    "        return\n",
    "    \n",
    "    image_path = os.path.join(images_folder, file_name)\n",
    "    img = Image.open(image_path)\n",
    "    draw = ImageDraw.Draw(img)\n",
    "    \n",
    "    for _, row in image_df.iterrows():\n",
    "        x0, y0, width, height = map(float, row[bbox_column])\n",
    "        x1, y1 = x0 + width, y0 + height\n",
    "        draw.rectangle([x0, y0, x1, y1], outline='red', width=3)\n",
    "        draw.text((x0, y0), row[label_column], fill='red')\n",
    "    \n",
    "    plt.figure(figsize=(10, 8))\n",
    "    plt.imshow(img)\n",
    "    plt.title(f\"File: {file_name}\")\n",
    "    plt.axis('off')\n",
    "    plt.show()"
   ]
  },
  {
   "cell_type": "code",
   "execution_count": null,
   "id": "25",
   "metadata": {},
   "outputs": [],
   "source": [
    "show_image_with_multi_bbox(rescaled_df, images_folder=IMAGES_FOLDER, file_name='585f4e71-23d2-11e8-a6a3-ec086b02610b.jpg')"
   ]
  },
  {
   "cell_type": "code",
   "execution_count": null,
   "id": "26",
   "metadata": {},
   "outputs": [],
   "source": []
  },
  {
   "cell_type": "code",
   "execution_count": null,
   "id": "27",
   "metadata": {},
   "outputs": [],
   "source": [
    "show_image_with_multi_bbox(rescaled_df, images_folder=IMAGES_FOLDER)"
   ]
  },
  {
   "cell_type": "markdown",
   "id": "28",
   "metadata": {},
   "source": [
    "## ¿Cuántos ejemplos por clase tenemos? (bbox = clase detectada)"
   ]
  },
  {
   "cell_type": "code",
   "execution_count": null,
   "id": "29",
   "metadata": {},
   "outputs": [],
   "source": [
    "valid_df = rescaled_df[rescaled_df['bbox_scaled'].notnull()]\n",
    "class_counts = valid_df['name'].value_counts()\n",
    "class_counts"
   ]
  },
  {
   "cell_type": "markdown",
   "id": "30",
   "metadata": {},
   "source": [
    "| Clase (inglés) | Clase (español) | Cantidad |\n",
    "| -------------- | --------------- | -------- |\n",
    "| opossum        | zarigüeya       | 2,514    |\n",
    "| rabbit         | conejo          | 2,278    |\n",
    "| coyote         | coyote          | 1,371    |\n",
    "| cat            | gato            | 1,170    |\n",
    "| squirrel       | ardilla         | 1,037    |\n",
    "| raccoon        | mapache         | 1,030    |\n",
    "| dog            | perro           | 769      |\n",
    "| bobcat         | lince rojo      | 684      |\n",
    "| car            | auto/coche      | 668      |\n",
    "| bird           | ave             | 560      |\n",
    "| rodent         | roedor          | 264      |\n",
    "| skunk          | mofeta/zorrillo | 214      |\n",
    "| deer           | ciervo/venado   | 44       |\n",
    "| badger         | tejón           | 9        |\n",
    "| fox            | zorro           | 5        |\n"
   ]
  },
  {
   "cell_type": "markdown",
   "id": "31",
   "metadata": {},
   "source": [
    "### Análisis de balance de clases\n",
    "- Se evidencian clases muy minoritarias (fox, badger, deer, etc)\n",
    "- Se podria utilizar *data augmentation* para clases medianas, y few-shot para ultra minoritarias\n",
    "- Tambien su pudo haber agrupado clases, si es que tuviera sentido biológico o justificación científica, cosas que se duda entre zorro, tejón y ciervo.\n",
    "\n",
    "Decisión:\n",
    "- Para clases de ≥200 ejemplos, aplicar augmentation\n",
    "- Para clases de <50 se descartan temporalmente, son demasiado escasas"
   ]
  },
  {
   "cell_type": "code",
   "execution_count": null,
   "id": "32",
   "metadata": {},
   "outputs": [],
   "source": [
    "rescaled_df.head()"
   ]
  },
  {
   "cell_type": "code",
   "execution_count": null,
   "id": "33",
   "metadata": {},
   "outputs": [],
   "source": [
    "rescaled_df.shape"
   ]
  },
  {
   "cell_type": "markdown",
   "id": "34",
   "metadata": {},
   "source": [
    "### *data augmentation*"
   ]
  },
  {
   "cell_type": "code",
   "execution_count": null,
   "id": "35",
   "metadata": {},
   "outputs": [],
   "source": [
    "def save_recortes_by_class(df, images_folder, output_folder, bbox_column='bbox_scaled',\n",
    "                           file_column='file_name', label_column='name'):\n",
    "    \"\"\"\n",
    "    Recorta las imágenes según bbox y guarda en carpetas por clase.\n",
    "    \"\"\"\n",
    "    for _, row in df.iterrows():\n",
    "        class_name = row[label_column]\n",
    "        bbox = row[bbox_column]\n",
    "        if bbox is None:\n",
    "            continue\n",
    "        file_name = row[file_column]\n",
    "        \n",
    "        class_folder = os.path.join(output_folder, class_name)\n",
    "        os.makedirs(class_folder, exist_ok=True)\n",
    "        \n",
    "        img_path = os.path.join(images_folder, file_name)\n",
    "        img = Image.open(img_path)\n",
    "        \n",
    "        x0, y0, width, height = map(float, bbox)\n",
    "        x1, y1 = x0 + width, y0 + height\n",
    "        cropped_img = img.crop((x0, y0, x1, y1))\n",
    "        \n",
    "        save_name = f\"{os.path.splitext(file_name)[0]}_{row['id_ann']}.jpg\"\n",
    "        cropped_img.save(os.path.join(class_folder, save_name))"
   ]
  },
  {
   "cell_type": "code",
   "execution_count": null,
   "id": "36",
   "metadata": {},
   "outputs": [],
   "source": [
    "OUTPUT_FOLDER = os.path.join('bboxes', 'bboxes_recortes')"
   ]
  },
  {
   "cell_type": "code",
   "execution_count": null,
   "id": "37",
   "metadata": {},
   "outputs": [],
   "source": [
    "OUTPUT_FOLDER"
   ]
  },
  {
   "cell_type": "code",
   "execution_count": null,
   "id": "38",
   "metadata": {},
   "outputs": [],
   "source": [
    "save_recortes_by_class(rescaled_df, IMAGES_FOLDER, OUTPUT_FOLDER)"
   ]
  },
  {
   "cell_type": "code",
   "execution_count": null,
   "id": "39",
   "metadata": {},
   "outputs": [],
   "source": [
    "import albumentations as A\n",
    "import cv2\n",
    "from tqdm import tqdm"
   ]
  },
  {
   "cell_type": "code",
   "execution_count": null,
   "id": "40",
   "metadata": {},
   "outputs": [],
   "source": [
    "def apply_augmentations_for_class(class_name, input_root, output_root, num_augmentations=2):\n",
    "    \"\"\"\n",
    "    Aplica augmentations a una clase específica.\n",
    "    \n",
    "    Parameters:\n",
    "    - class_name: nombre de la clase (carpeta dentro de input_root).\n",
    "    - input_root: carpeta raíz de los recortes originales.\n",
    "    - output_root: carpeta raíz para guardar augmentations.\n",
    "    - num_augmentations: cuántas imágenes augmentadas generar por original.\n",
    "    \"\"\"\n",
    "    input_folder = os.path.join(input_root, class_name)\n",
    "    output_folder = os.path.join(output_root, class_name)\n",
    "    \n",
    "    transform = A.Compose([\n",
    "        A.HorizontalFlip(p=0.5),\n",
    "        A.RandomBrightnessContrast(p=0.2),\n",
    "        A.Rotate(limit=20, p=0.5),\n",
    "        A.GaussNoise(p=0.2)\n",
    "    ])\n",
    "    \n",
    "    os.makedirs(output_folder, exist_ok=True)\n",
    "    \n",
    "    for img_name in tqdm(os.listdir(input_folder), desc=f\"Augmenting {class_name}\"):\n",
    "        img_path = os.path.join(input_folder, img_name)\n",
    "        img = cv2.imread(img_path)\n",
    "        \n",
    "        if img is None:\n",
    "            print(f\"⚠️ No se pudo leer la imagen: {img_path}\")\n",
    "            continue\n",
    "        \n",
    "        for i in range(num_augmentations):\n",
    "            augmented = transform(image=img)['image']\n",
    "            save_name = f\"{os.path.splitext(img_name)[0]}_aug{i}.jpg\"\n",
    "            cv2.imwrite(os.path.join(output_folder, save_name), augmented)\n"
   ]
  },
  {
   "cell_type": "code",
   "execution_count": null,
   "id": "41",
   "metadata": {},
   "outputs": [],
   "source": [
    "INPUT_FOLDER = os.path.join('bboxes', 'bboxes_recortes')\n",
    "AUG_OUTPUT_FOLDER = os.path.join('bboxes', 'augmented')"
   ]
  },
  {
   "cell_type": "code",
   "execution_count": null,
   "id": "42",
   "metadata": {},
   "outputs": [],
   "source": [
    "apply_augmentations_for_class('dog', INPUT_FOLDER, AUG_OUTPUT_FOLDER, num_augmentations=2)\n",
    "apply_augmentations_for_class('bobcat', INPUT_FOLDER, AUG_OUTPUT_FOLDER, num_augmentations=2)\n",
    "apply_augmentations_for_class('car', INPUT_FOLDER, AUG_OUTPUT_FOLDER, num_augmentations=2)\n",
    "apply_augmentations_for_class('bird', INPUT_FOLDER, AUG_OUTPUT_FOLDER, num_augmentations=2)\n",
    "apply_augmentations_for_class('rodent', INPUT_FOLDER, AUG_OUTPUT_FOLDER, num_augmentations=4)\n",
    "apply_augmentations_for_class('skunk', INPUT_FOLDER, AUG_OUTPUT_FOLDER, num_augmentations=4)"
   ]
  },
  {
   "cell_type": "code",
   "execution_count": null,
   "id": "43",
   "metadata": {},
   "outputs": [],
   "source": [
    "def show_random_augmented_image(class_name, augmented_folder='bboxes\\\\augmented'):\n",
    "    \"\"\"\n",
    "    Muestra aleatoriamente una imagen augmentada de la clase indicada.\n",
    "    \n",
    "    Parameters:\n",
    "    - class_name: nombre de la carpeta/clase dentro de augmented_folder.\n",
    "    - augmented_folder: carpeta raíz donde están las carpetas de augmentations.\n",
    "    \"\"\"\n",
    "    class_folder = os.path.join(augmented_folder, class_name)\n",
    "    if not os.path.exists(class_folder):\n",
    "        print(f\"⚠️ Carpeta no encontrada: {class_folder}\")\n",
    "        return\n",
    "    \n",
    "    images = os.listdir(class_folder)\n",
    "    if not images:\n",
    "        print(f\"⚠️ No hay imágenes en {class_folder}\")\n",
    "        return\n",
    "    \n",
    "    selected_image = random.choice(images)\n",
    "    img_path = os.path.join(class_folder, selected_image)\n",
    "    \n",
    "    img = Image.open(img_path)\n",
    "    plt.figure(figsize=(6, 6))\n",
    "    plt.imshow(img)\n",
    "    plt.title(f\"Class: {class_name}\\nFile: {selected_image}\")\n",
    "    plt.axis('off')\n",
    "    plt.show()"
   ]
  },
  {
   "cell_type": "code",
   "execution_count": null,
   "id": "44",
   "metadata": {},
   "outputs": [],
   "source": [
    "show_random_augmented_image('dog')"
   ]
  },
  {
   "cell_type": "markdown",
   "id": "45",
   "metadata": {},
   "source": [
    "### Reflexión\n",
    "\n",
    "**Lo ideal sería aplicar augmentations únicamente al objeto (solo al perro o animal en cuestión) y no al fondo.**\n",
    "\n",
    "Para lograr esto, no basta con trabajar sobre bounding boxes...\n",
    "\n",
    "Este nivel de precisión requiere:\n",
    "\n",
    "- Máscaras de segmentación pixel a pixel del animal dentro de la imagen.\n",
    "- Modelos especializados como U-Net u otras arquitecturas de segmentación.\n",
    "\n",
    "El enfoque es válido, pero es importante reconocer sus limitaciones."
   ]
  },
  {
   "cell_type": "markdown",
   "id": "46",
   "metadata": {},
   "source": [
    "## Armar dataloader"
   ]
  },
  {
   "cell_type": "code",
   "execution_count": null,
   "id": "47",
   "metadata": {},
   "outputs": [],
   "source": [
    "import shutil\n",
    "import os"
   ]
  },
  {
   "cell_type": "code",
   "execution_count": null,
   "id": "48",
   "metadata": {},
   "outputs": [],
   "source": [
    "dataset_dir = os.path.join('data', 'dataloader')\n",
    "\n",
    "bboxes_recortes_dir = os.path.join('bboxes', 'bboxes_recortes')\n",
    "augmented_dir = os.path.join('bboxes', 'augmented')"
   ]
  },
  {
   "cell_type": "code",
   "execution_count": null,
   "id": "49",
   "metadata": {},
   "outputs": [],
   "source": [
    "allowed_classes = [\n",
    "    'opossum', 'rabbit', 'coyote', 'cat', 'squirrel', 'raccoon', \n",
    "    'dog', 'bobcat', 'car', 'bird', 'rodent', 'skunk'\n",
    "    # NOTA: estamos excluyendo deer, badger, fox\n",
    "]"
   ]
  },
  {
   "cell_type": "markdown",
   "id": "50",
   "metadata": {},
   "source": [
    "Encapsulamos únicamente las clases que tienen una muestra representativa"
   ]
  },
  {
   "cell_type": "code",
   "execution_count": null,
   "id": "51",
   "metadata": {},
   "outputs": [],
   "source": [
    "os.makedirs(dataset_dir, exist_ok=True)\n",
    "\n",
    "for class_name in allowed_classes:\n",
    "    dest_class_dir = os.path.join(dataset_dir, class_name)\n",
    "    os.makedirs(dest_class_dir, exist_ok=True)\n",
    "\n",
    "    # Copiar desde bboxes_recortes\n",
    "    src_bbox_class_dir = os.path.join(bboxes_recortes_dir, class_name)\n",
    "    if os.path.exists(src_bbox_class_dir):\n",
    "        for filename in tqdm(os.listdir(src_bbox_class_dir), desc=f\"{class_name} - bbox\", leave=True):\n",
    "            src_file = os.path.join(src_bbox_class_dir, filename)\n",
    "            dest_file = os.path.join(dest_class_dir, filename)\n",
    "            shutil.copy2(src_file, dest_file)\n",
    "\n",
    "    # Copiar desde augmented\n",
    "    src_aug_class_dir = os.path.join(augmented_dir, class_name)\n",
    "    if os.path.exists(src_aug_class_dir):\n",
    "        for filename in tqdm(os.listdir(src_aug_class_dir), desc=f\"{class_name} - aug\", leave=True):\n",
    "            src_file = os.path.join(src_aug_class_dir, filename)\n",
    "            dest_file = os.path.join(dest_class_dir, filename)\n",
    "            shutil.copy2(src_file, dest_file)\n"
   ]
  },
  {
   "cell_type": "code",
   "execution_count": null,
   "id": "52",
   "metadata": {},
   "outputs": [],
   "source": [
    "train_ds = tf.keras.preprocessing.image_dataset_from_directory(\n",
    "    dataset_dir,\n",
    "    validation_split=0.2,\n",
    "    subset=\"training\",\n",
    "    seed=123,\n",
    "    image_size=(img_height, img_width),\n",
    "    batch_size=batch_size\n",
    ")\n",
    "\n",
    "val_ds = tf.keras.preprocessing.image_dataset_from_directory(\n",
    "    dataset_dir,\n",
    "    validation_split=0.2,\n",
    "    subset=\"validation\",\n",
    "    seed=123,\n",
    "    image_size=(img_height, img_width),\n",
    "    batch_size=batch_size\n",
    ")\n"
   ]
  }
 ],
 "metadata": {
  "kernelspec": {
   "display_name": "venv",
   "language": "python",
   "name": "python3"
  },
  "language_info": {
   "codemirror_mode": {
    "name": "ipython",
    "version": 3
   },
   "file_extension": ".py",
   "mimetype": "text/x-python",
   "name": "python",
   "nbconvert_exporter": "python",
   "pygments_lexer": "ipython3",
   "version": "3.11.9"
  }
 },
 "nbformat": 4,
 "nbformat_minor": 5
}
